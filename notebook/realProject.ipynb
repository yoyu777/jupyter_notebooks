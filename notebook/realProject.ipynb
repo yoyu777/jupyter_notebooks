{
 "cells": [
  {
   "cell_type": "code",
   "execution_count": 111,
   "metadata": {
    "scrolled": true
   },
   "outputs": [
    {
     "name": "stdout",
     "output_type": "stream",
     "text": [
      "Requirement already satisfied: lxml in /srv/conda/lib/python3.6/site-packages\n",
      "Requirement already satisfied: pandas in /srv/conda/lib/python3.6/site-packages\n",
      "Requirement already satisfied: numpy>=1.9.0 in /srv/conda/lib/python3.6/site-packages (from pandas)\n",
      "Requirement already satisfied: python-dateutil>=2.5.0 in /srv/conda/lib/python3.6/site-packages (from pandas)\n",
      "Requirement already satisfied: pytz>=2011k in /srv/conda/lib/python3.6/site-packages (from pandas)\n",
      "Requirement already satisfied: six>=1.5 in /srv/conda/lib/python3.6/site-packages (from python-dateutil>=2.5.0->pandas)\n",
      "\u001b[33mYou are using pip version 9.0.3, however version 10.0.1 is available.\n",
      "You should consider upgrading via the 'pip install --upgrade pip' command.\u001b[0m\n"
     ]
    }
   ],
   "source": [
    "!pip install  lxml pandas\n",
    "from urllib.request import urlopen\n",
    "from lxml import html, etree\n",
    "import pandas as pd"
   ]
  },
  {
   "cell_type": "code",
   "execution_count": 114,
   "metadata": {},
   "outputs": [],
   "source": [
    "def extractText(ele):\n",
    "    return ele.text.strip()"
   ]
  },
  {
   "cell_type": "code",
   "execution_count": 134,
   "metadata": {},
   "outputs": [],
   "source": [
    "def extractHoldingsFromStock(url):\n",
    "    page=urlopen(url)\n",
    "    tree = html.fromstring(page.read().decode('utf-8'))\n",
    "    holding=tree.xpath('//div[@class=\"holding\"]')[0]\n",
    "    tbody=holding.xpath('//tbody')[0]\n",
    "    holding={\n",
    "        'fullName':tbody.xpath('//div[@data-type=\"full\"]'),\n",
    "        'abbreviation':tbody.xpath('//div[@data-type=\"abbreviation\"]'),\n",
    "        'percentage':tbody.xpath('//td[@data-type=\"percent\"]')\n",
    "    }\n",
    "    df = pd.DataFrame(data=holding)\n",
    "    df=df.apply(lambda s:s.apply(extractText))\n",
    "    return df"
   ]
  },
  {
   "cell_type": "markdown",
   "metadata": {},
   "source": [
    "## Janus Henderson Global Technology Fund"
   ]
  },
  {
   "cell_type": "code",
   "execution_count": 135,
   "metadata": {
    "scrolled": false
   },
   "outputs": [
    {
     "data": {
      "text/html": [
       "<div>\n",
       "<style scoped>\n",
       "    .dataframe tbody tr th:only-of-type {\n",
       "        vertical-align: middle;\n",
       "    }\n",
       "\n",
       "    .dataframe tbody tr th {\n",
       "        vertical-align: top;\n",
       "    }\n",
       "\n",
       "    .dataframe thead th {\n",
       "        text-align: right;\n",
       "    }\n",
       "</style>\n",
       "<table border=\"1\" class=\"dataframe\">\n",
       "  <thead>\n",
       "    <tr style=\"text-align: right;\">\n",
       "      <th></th>\n",
       "      <th>fullName</th>\n",
       "      <th>abbreviation</th>\n",
       "      <th>percentage</th>\n",
       "    </tr>\n",
       "  </thead>\n",
       "  <tbody>\n",
       "    <tr>\n",
       "      <th>0</th>\n",
       "      <td>Microsoft Corp</td>\n",
       "      <td>MSFT:US</td>\n",
       "      <td>5.54</td>\n",
       "    </tr>\n",
       "    <tr>\n",
       "      <th>1</th>\n",
       "      <td>Alphabet Inc</td>\n",
       "      <td>GOOG:US</td>\n",
       "      <td>5.42</td>\n",
       "    </tr>\n",
       "    <tr>\n",
       "      <th>2</th>\n",
       "      <td>Tencent Holdings Ltd</td>\n",
       "      <td>700:HK</td>\n",
       "      <td>4.19</td>\n",
       "    </tr>\n",
       "    <tr>\n",
       "      <th>3</th>\n",
       "      <td>salesforce.com Inc</td>\n",
       "      <td>CRM:US</td>\n",
       "      <td>3.82</td>\n",
       "    </tr>\n",
       "    <tr>\n",
       "      <th>4</th>\n",
       "      <td>Alibaba Group Holding Ltd</td>\n",
       "      <td>BABA:US</td>\n",
       "      <td>3.24</td>\n",
       "    </tr>\n",
       "    <tr>\n",
       "      <th>5</th>\n",
       "      <td>Adobe Systems Inc</td>\n",
       "      <td>ADBE:US</td>\n",
       "      <td>2.99</td>\n",
       "    </tr>\n",
       "    <tr>\n",
       "      <th>6</th>\n",
       "      <td>Amazon.com Inc</td>\n",
       "      <td>AMZN:US</td>\n",
       "      <td>2.95</td>\n",
       "    </tr>\n",
       "    <tr>\n",
       "      <th>7</th>\n",
       "      <td>Microchip Technology Inc</td>\n",
       "      <td>MCHP:US</td>\n",
       "      <td>2.93</td>\n",
       "    </tr>\n",
       "    <tr>\n",
       "      <th>8</th>\n",
       "      <td>Taiwan Semiconductor Manufactu</td>\n",
       "      <td>2330:TT</td>\n",
       "      <td>2.69</td>\n",
       "    </tr>\n",
       "    <tr>\n",
       "      <th>9</th>\n",
       "      <td>Amphenol Corp</td>\n",
       "      <td>APH:US</td>\n",
       "      <td>2.62</td>\n",
       "    </tr>\n",
       "  </tbody>\n",
       "</table>\n",
       "</div>"
      ],
      "text/plain": [
       "                         fullName abbreviation percentage\n",
       "0                  Microsoft Corp      MSFT:US       5.54\n",
       "1                    Alphabet Inc      GOOG:US       5.42\n",
       "2            Tencent Holdings Ltd       700:HK       4.19\n",
       "3              salesforce.com Inc       CRM:US       3.82\n",
       "4       Alibaba Group Holding Ltd      BABA:US       3.24\n",
       "5               Adobe Systems Inc      ADBE:US       2.99\n",
       "6                  Amazon.com Inc      AMZN:US       2.95\n",
       "7        Microchip Technology Inc      MCHP:US       2.93\n",
       "8  Taiwan Semiconductor Manufactu      2330:TT       2.69\n",
       "9                   Amphenol Corp       APH:US       2.62"
      ]
     },
     "execution_count": 135,
     "metadata": {},
     "output_type": "execute_result"
    }
   ],
   "source": [
    "extractHoldingsFromStock('https://www.bloomberg.com/quote/JAGTX:US')"
   ]
  },
  {
   "cell_type": "markdown",
   "metadata": {},
   "source": [
    "## iShares Healthcare Innovation UCITS ETF "
   ]
  },
  {
   "cell_type": "code",
   "execution_count": 136,
   "metadata": {
    "scrolled": true
   },
   "outputs": [
    {
     "data": {
      "text/html": [
       "<div>\n",
       "<style scoped>\n",
       "    .dataframe tbody tr th:only-of-type {\n",
       "        vertical-align: middle;\n",
       "    }\n",
       "\n",
       "    .dataframe tbody tr th {\n",
       "        vertical-align: top;\n",
       "    }\n",
       "\n",
       "    .dataframe thead th {\n",
       "        text-align: right;\n",
       "    }\n",
       "</style>\n",
       "<table border=\"1\" class=\"dataframe\">\n",
       "  <thead>\n",
       "    <tr style=\"text-align: right;\">\n",
       "      <th></th>\n",
       "      <th>fullName</th>\n",
       "      <th>abbreviation</th>\n",
       "      <th>percentage</th>\n",
       "    </tr>\n",
       "  </thead>\n",
       "  <tbody>\n",
       "    <tr>\n",
       "      <th>0</th>\n",
       "      <td>EURO</td>\n",
       "      <td>EUR:CUR</td>\n",
       "      <td>2.96</td>\n",
       "    </tr>\n",
       "    <tr>\n",
       "      <th>1</th>\n",
       "      <td>Celltrion Inc</td>\n",
       "      <td>068270:KS</td>\n",
       "      <td>2.84</td>\n",
       "    </tr>\n",
       "    <tr>\n",
       "      <th>2</th>\n",
       "      <td>ABIOMED Inc</td>\n",
       "      <td>ABMD:US</td>\n",
       "      <td>2.79</td>\n",
       "    </tr>\n",
       "    <tr>\n",
       "      <th>3</th>\n",
       "      <td>ViroMed Co Ltd</td>\n",
       "      <td>084990:KS</td>\n",
       "      <td>2.58</td>\n",
       "    </tr>\n",
       "    <tr>\n",
       "      <th>4</th>\n",
       "      <td>Sirtex Medical Ltd</td>\n",
       "      <td>SRX:AU</td>\n",
       "      <td>2.51</td>\n",
       "    </tr>\n",
       "    <tr>\n",
       "      <th>5</th>\n",
       "      <td>CSPC Pharmaceutical Group Ltd</td>\n",
       "      <td>1093:HK</td>\n",
       "      <td>1.98</td>\n",
       "    </tr>\n",
       "    <tr>\n",
       "      <th>6</th>\n",
       "      <td>Samsung Biologics Co Ltd</td>\n",
       "      <td>207940:KS</td>\n",
       "      <td>1.86</td>\n",
       "    </tr>\n",
       "    <tr>\n",
       "      <th>7</th>\n",
       "      <td>Takara Bio Inc</td>\n",
       "      <td>4974:JP</td>\n",
       "      <td>1.77</td>\n",
       "    </tr>\n",
       "    <tr>\n",
       "      <th>8</th>\n",
       "      <td>United Laboratories Internatio</td>\n",
       "      <td>3933:HK</td>\n",
       "      <td>1.75</td>\n",
       "    </tr>\n",
       "    <tr>\n",
       "      <th>9</th>\n",
       "      <td>Myriad Genetics Inc</td>\n",
       "      <td>MYGN:US</td>\n",
       "      <td>1.68</td>\n",
       "    </tr>\n",
       "  </tbody>\n",
       "</table>\n",
       "</div>"
      ],
      "text/plain": [
       "                         fullName abbreviation percentage\n",
       "0                            EURO      EUR:CUR       2.96\n",
       "1                   Celltrion Inc    068270:KS       2.84\n",
       "2                     ABIOMED Inc      ABMD:US       2.79\n",
       "3                  ViroMed Co Ltd    084990:KS       2.58\n",
       "4              Sirtex Medical Ltd       SRX:AU       2.51\n",
       "5   CSPC Pharmaceutical Group Ltd      1093:HK       1.98\n",
       "6        Samsung Biologics Co Ltd    207940:KS       1.86\n",
       "7                  Takara Bio Inc      4974:JP       1.77\n",
       "8  United Laboratories Internatio      3933:HK       1.75\n",
       "9             Myriad Genetics Inc      MYGN:US       1.68"
      ]
     },
     "execution_count": 136,
     "metadata": {},
     "output_type": "execute_result"
    }
   ],
   "source": [
    "extractHoldingsFromStock('https://www.bloomberg.com/quote/HEAL:SW')"
   ]
  }
 ],
 "metadata": {
  "kernelspec": {
   "display_name": "Python 3",
   "language": "python",
   "name": "python3"
  },
  "language_info": {
   "codemirror_mode": {
    "name": "ipython",
    "version": 3
   },
   "file_extension": ".py",
   "mimetype": "text/x-python",
   "name": "python",
   "nbconvert_exporter": "python",
   "pygments_lexer": "ipython3",
   "version": "3.6.5"
  }
 },
 "nbformat": 4,
 "nbformat_minor": 2
}
