{
 "cells": [
  {
   "cell_type": "code",
   "execution_count": 362,
   "metadata": {},
   "outputs": [
    {
     "name": "stdout",
     "output_type": "stream",
     "text": [
      "[binder 7b3221e] WIP refactored code\n",
      " 1 file changed, 259 insertions(+), 83 deletions(-)\n",
      "Counting objects: 4, done.\n",
      "Delta compression using up to 32 threads.\n",
      "Compressing objects: 100% (4/4), done.\n",
      "Writing objects: 100% (4/4), 1.37 KiB | 1.37 MiB/s, done.\n",
      "Total 4 (delta 1), reused 0 (delta 0)\n",
      "remote: Resolving deltas: 100% (1/1), completed with 1 local object.\u001b[K\n",
      "To https://github.com/yoyu777/jupyter_notebooks.git\n",
      "   6dc0f85..7b3221e  binder -> binder\n"
     ]
    }
   ],
   "source": [
    "!git commit -am \"WIP refactored code\"\n",
    "!git push"
   ]
  },
  {
   "cell_type": "code",
   "execution_count": 262,
   "metadata": {
    "scrolled": true
   },
   "outputs": [
    {
     "name": "stdout",
     "output_type": "stream",
     "text": [
      "Requirement already satisfied: lxml in /srv/conda/lib/python3.6/site-packages\n",
      "Requirement already satisfied: pandas in /srv/conda/lib/python3.6/site-packages\n",
      "Requirement already satisfied: python-dateutil>=2.5.0 in /srv/conda/lib/python3.6/site-packages (from pandas)\n",
      "Requirement already satisfied: numpy>=1.9.0 in /srv/conda/lib/python3.6/site-packages (from pandas)\n",
      "Requirement already satisfied: pytz>=2011k in /srv/conda/lib/python3.6/site-packages (from pandas)\n",
      "Requirement already satisfied: six>=1.5 in /srv/conda/lib/python3.6/site-packages (from python-dateutil>=2.5.0->pandas)\n",
      "\u001b[33mYou are using pip version 9.0.3, however version 10.0.1 is available.\n",
      "You should consider upgrading via the 'pip install --upgrade pip' command.\u001b[0m\n"
     ]
    }
   ],
   "source": [
    "!pip install  lxml pandas\n",
    "from urllib.request import urlopen\n",
    "from lxml import html, etree\n",
    "import pandas as pd\n",
    "import numpy as np\n",
    "import json"
   ]
  },
  {
   "cell_type": "code",
   "execution_count": 114,
   "metadata": {},
   "outputs": [],
   "source": [
    "def extractText(ele):\n",
    "    return ele.text.strip()"
   ]
  },
  {
   "cell_type": "code",
   "execution_count": 346,
   "metadata": {},
   "outputs": [],
   "source": [
    "def extractHoldingsFromStock(url):\n",
    "    print(url)\n",
    "    page=urlopen(url)\n",
    "    tree = html.fromstring(page.read().decode('utf-8'))\n",
    "    holding=tree.xpath('//div[@class=\"holding\"]')[0]\n",
    "    tbody=holding.xpath('//tbody')[0]\n",
    "    holding={\n",
    "        'FullName':tbody.xpath('//div[@data-type=\"full\"]'),\n",
    "        'Abbreviation':tbody.xpath('//div[@data-type=\"abbreviation\"]'),\n",
    "        'Percentage':tbody.xpath('//td[@data-type=\"percent\"]')\n",
    "    }\n",
    "    df = pd.DataFrame(data=holding)\n",
    "    df=df.apply(lambda s:s.apply(extractText))\n",
    "    return df"
   ]
  },
  {
   "cell_type": "code",
   "execution_count": 347,
   "metadata": {},
   "outputs": [],
   "source": [
    "funds=[]\n",
    "funds.append({\n",
    "        'Name':'Janus Henderson Global Technology Fund',\n",
    "        'URL':'https://www.bloomberg.com/quote/JAGTX:US',\n",
    "        'Allocation':4\n",
    "    })\n",
    "funds.append({\n",
    "        'Name':'iShares Healthcare Innovation UCITS ETF',\n",
    "        'URL':'https://www.bloomberg.com/quote/HEAL:SW',\n",
    "        'Allocation':2\n",
    "    })"
   ]
  },
  {
   "cell_type": "code",
   "execution_count": 348,
   "metadata": {
    "scrolled": true
   },
   "outputs": [
    {
     "data": {
      "text/html": [
       "<div>\n",
       "<style scoped>\n",
       "    .dataframe tbody tr th:only-of-type {\n",
       "        vertical-align: middle;\n",
       "    }\n",
       "\n",
       "    .dataframe tbody tr th {\n",
       "        vertical-align: top;\n",
       "    }\n",
       "\n",
       "    .dataframe thead th {\n",
       "        text-align: right;\n",
       "    }\n",
       "</style>\n",
       "<table border=\"1\" class=\"dataframe\">\n",
       "  <thead>\n",
       "    <tr style=\"text-align: right;\">\n",
       "      <th></th>\n",
       "      <th>Name</th>\n",
       "      <th>URL</th>\n",
       "      <th>Allocation</th>\n",
       "    </tr>\n",
       "  </thead>\n",
       "  <tbody>\n",
       "    <tr>\n",
       "      <th>0</th>\n",
       "      <td>Janus Henderson Global Technology Fund</td>\n",
       "      <td>https://www.bloomberg.com/quote/JAGTX:US</td>\n",
       "      <td>4</td>\n",
       "    </tr>\n",
       "    <tr>\n",
       "      <th>1</th>\n",
       "      <td>iShares Healthcare Innovation UCITS ETF</td>\n",
       "      <td>https://www.bloomberg.com/quote/HEAL:SW</td>\n",
       "      <td>2</td>\n",
       "    </tr>\n",
       "  </tbody>\n",
       "</table>\n",
       "</div>"
      ],
      "text/plain": [
       "                                      Name  \\\n",
       "0   Janus Henderson Global Technology Fund   \n",
       "1  iShares Healthcare Innovation UCITS ETF   \n",
       "\n",
       "                                        URL  Allocation  \n",
       "0  https://www.bloomberg.com/quote/JAGTX:US           4  \n",
       "1   https://www.bloomberg.com/quote/HEAL:SW           2  "
      ]
     },
     "execution_count": 348,
     "metadata": {},
     "output_type": "execute_result"
    }
   ],
   "source": [
    "df=pd.DataFrame(funds,columns=['Name','URL','Allocation'])\n",
    "df"
   ]
  },
  {
   "cell_type": "code",
   "execution_count": 349,
   "metadata": {},
   "outputs": [
    {
     "name": "stdout",
     "output_type": "stream",
     "text": [
      "https://www.bloomberg.com/quote/JAGTX:US\n",
      "https://www.bloomberg.com/quote/HEAL:SW\n"
     ]
    }
   ],
   "source": [
    "df['Holdings']=df.URL.apply(extractHoldingsFromStock)"
   ]
  },
  {
   "cell_type": "code",
   "execution_count": 350,
   "metadata": {
    "scrolled": true
   },
   "outputs": [
    {
     "data": {
      "text/html": [
       "<div>\n",
       "<style scoped>\n",
       "    .dataframe tbody tr th:only-of-type {\n",
       "        vertical-align: middle;\n",
       "    }\n",
       "\n",
       "    .dataframe tbody tr th {\n",
       "        vertical-align: top;\n",
       "    }\n",
       "\n",
       "    .dataframe thead th {\n",
       "        text-align: right;\n",
       "    }\n",
       "</style>\n",
       "<table border=\"1\" class=\"dataframe\">\n",
       "  <thead>\n",
       "    <tr style=\"text-align: right;\">\n",
       "      <th></th>\n",
       "      <th>Name</th>\n",
       "      <th>OverallWeight</th>\n",
       "    </tr>\n",
       "  </thead>\n",
       "  <tbody>\n",
       "    <tr>\n",
       "      <th>0</th>\n",
       "      <td>Janus Henderson Global Technology Fund</td>\n",
       "      <td>0.67</td>\n",
       "    </tr>\n",
       "    <tr>\n",
       "      <th>1</th>\n",
       "      <td>iShares Healthcare Innovation UCITS ETF</td>\n",
       "      <td>0.33</td>\n",
       "    </tr>\n",
       "  </tbody>\n",
       "</table>\n",
       "</div>"
      ],
      "text/plain": [
       "                                      Name  OverallWeight\n",
       "0   Janus Henderson Global Technology Fund           0.67\n",
       "1  iShares Healthcare Innovation UCITS ETF           0.33"
      ]
     },
     "execution_count": 350,
     "metadata": {},
     "output_type": "execute_result"
    }
   ],
   "source": [
    "sum=df.Allocation.sum()\n",
    "weights=list(map(lambda v:round(v/sum,2),df.Allocation))\n",
    "df['OverallWeight']=weights\n",
    "df[['Name','OverallWeight']]"
   ]
  },
  {
   "cell_type": "code",
   "execution_count": 351,
   "metadata": {},
   "outputs": [
    {
     "data": {
      "text/html": [
       "<div>\n",
       "<style scoped>\n",
       "    .dataframe tbody tr th:only-of-type {\n",
       "        vertical-align: middle;\n",
       "    }\n",
       "\n",
       "    .dataframe tbody tr th {\n",
       "        vertical-align: top;\n",
       "    }\n",
       "\n",
       "    .dataframe thead th {\n",
       "        text-align: right;\n",
       "    }\n",
       "</style>\n",
       "<table border=\"1\" class=\"dataframe\">\n",
       "  <thead>\n",
       "    <tr style=\"text-align: right;\">\n",
       "      <th></th>\n",
       "      <th>Name</th>\n",
       "      <th>URL</th>\n",
       "      <th>Allocation</th>\n",
       "      <th>Holdings</th>\n",
       "      <th>OverallWeight</th>\n",
       "    </tr>\n",
       "  </thead>\n",
       "  <tbody>\n",
       "    <tr>\n",
       "      <th>0</th>\n",
       "      <td>Janus Henderson Global Technology Fund</td>\n",
       "      <td>https://www.bloomberg.com/quote/JAGTX:US</td>\n",
       "      <td>4</td>\n",
       "      <td>FullName Abbreviation...</td>\n",
       "      <td>0.67</td>\n",
       "    </tr>\n",
       "    <tr>\n",
       "      <th>1</th>\n",
       "      <td>iShares Healthcare Innovation UCITS ETF</td>\n",
       "      <td>https://www.bloomberg.com/quote/HEAL:SW</td>\n",
       "      <td>2</td>\n",
       "      <td>FullName Abbreviation...</td>\n",
       "      <td>0.33</td>\n",
       "    </tr>\n",
       "  </tbody>\n",
       "</table>\n",
       "</div>"
      ],
      "text/plain": [
       "                                      Name  \\\n",
       "0   Janus Henderson Global Technology Fund   \n",
       "1  iShares Healthcare Innovation UCITS ETF   \n",
       "\n",
       "                                        URL  Allocation  \\\n",
       "0  https://www.bloomberg.com/quote/JAGTX:US           4   \n",
       "1   https://www.bloomberg.com/quote/HEAL:SW           2   \n",
       "\n",
       "                                            Holdings  OverallWeight  \n",
       "0                           FullName Abbreviation...           0.67  \n",
       "1                           FullName Abbreviation...           0.33  "
      ]
     },
     "execution_count": 351,
     "metadata": {},
     "output_type": "execute_result"
    }
   ],
   "source": [
    "df"
   ]
  },
  {
   "cell_type": "code",
   "execution_count": 358,
   "metadata": {},
   "outputs": [
    {
     "data": {
      "text/plain": [
       "0    None\n",
       "1    None\n",
       "dtype: object"
      ]
     },
     "execution_count": 358,
     "metadata": {},
     "output_type": "execute_result"
    }
   ],
   "source": [
    "def factorInWeights(row):\n",
    "#     print(row.Name)\n",
    "    row.Holdings['OverallPercentage']=row.Holdings.Percentage.apply(lambda v:float(v)*row.OverallWeight)\n",
    "    return \n",
    "\n",
    "df.apply(factorInWeights,axis=1)"
   ]
  },
  {
   "cell_type": "code",
   "execution_count": 359,
   "metadata": {},
   "outputs": [
    {
     "data": {
      "text/plain": [
       "0    None\n",
       "1    None\n",
       "dtype: object"
      ]
     },
     "execution_count": 359,
     "metadata": {},
     "output_type": "execute_result"
    }
   ],
   "source": [
    "def appendFundName(row):\n",
    "    row.Holdings['FundName']=row.Name\n",
    "    return\n",
    "df.apply(appendFundName,axis=1)"
   ]
  },
  {
   "cell_type": "code",
   "execution_count": null,
   "metadata": {},
   "outputs": [],
   "source": [
    "allHoldings=pd.concat(df.Holdings.values)\n",
    "allHoldings\n",
    "allHoldings.groupby('Abbreviation').sort_values(['OverallPercentage', 'Percentage'], ascending=[0,0])"
   ]
  },
  {
   "cell_type": "code",
   "execution_count": null,
   "metadata": {},
   "outputs": [],
   "source": []
  }
 ],
 "metadata": {
  "kernelspec": {
   "display_name": "Python 3",
   "language": "python",
   "name": "python3"
  },
  "language_info": {
   "codemirror_mode": {
    "name": "ipython",
    "version": 3
   },
   "file_extension": ".py",
   "mimetype": "text/x-python",
   "name": "python",
   "nbconvert_exporter": "python",
   "pygments_lexer": "ipython3",
   "version": "3.6.5"
  }
 },
 "nbformat": 4,
 "nbformat_minor": 2
}
