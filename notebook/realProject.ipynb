{
 "cells": [
  {
   "cell_type": "code",
   "execution_count": 137,
   "metadata": {},
   "outputs": [
    {
     "name": "stdout",
     "output_type": "stream",
     "text": [
      "[binder 3463826] Replicated function to two funds\n",
      " 1 file changed, 151 insertions(+), 109 deletions(-)\n",
      "Counting objects: 4, done.\n",
      "Delta compression using up to 32 threads.\n",
      "Compressing objects: 100% (4/4), done.\n",
      "Writing objects: 100% (4/4), 1.25 KiB | 1.25 MiB/s, done.\n",
      "Total 4 (delta 1), reused 0 (delta 0)\n",
      "remote: Resolving deltas: 100% (1/1), completed with 1 local object.\u001b[K\n",
      "To https://github.com/yoyu777/jupyter_notebooks.git\n",
      "   e4b99d6..3463826  binder -> binder\n"
     ]
    }
   ],
   "source": [
    "!git commit -am \"Replicated function to two funds\"\n",
    "!git push"
   ]
  },
  {
   "cell_type": "code",
   "execution_count": 147,
   "metadata": {
    "scrolled": true
   },
   "outputs": [
    {
     "name": "stdout",
     "output_type": "stream",
     "text": [
      "Requirement already satisfied: lxml in /srv/conda/lib/python3.6/site-packages\n",
      "Requirement already satisfied: pandas in /srv/conda/lib/python3.6/site-packages\n",
      "Requirement already satisfied: python-dateutil>=2.5.0 in /srv/conda/lib/python3.6/site-packages (from pandas)\n",
      "Requirement already satisfied: pytz>=2011k in /srv/conda/lib/python3.6/site-packages (from pandas)\n",
      "Requirement already satisfied: numpy>=1.9.0 in /srv/conda/lib/python3.6/site-packages (from pandas)\n",
      "Requirement already satisfied: six>=1.5 in /srv/conda/lib/python3.6/site-packages (from python-dateutil>=2.5.0->pandas)\n",
      "\u001b[33mYou are using pip version 9.0.3, however version 10.0.1 is available.\n",
      "You should consider upgrading via the 'pip install --upgrade pip' command.\u001b[0m\n"
     ]
    }
   ],
   "source": [
    "!pip install  lxml pandas\n",
    "from urllib.request import urlopen\n",
    "from lxml import html, etree\n",
    "import pandas as pd\n",
    "import numpy as np"
   ]
  },
  {
   "cell_type": "code",
   "execution_count": 114,
   "metadata": {},
   "outputs": [],
   "source": [
    "def extractText(ele):\n",
    "    return ele.text.strip()"
   ]
  },
  {
   "cell_type": "code",
   "execution_count": 134,
   "metadata": {},
   "outputs": [],
   "source": [
    "def extractHoldingsFromStock(url):\n",
    "    page=urlopen(url)\n",
    "    tree = html.fromstring(page.read().decode('utf-8'))\n",
    "    holding=tree.xpath('//div[@class=\"holding\"]')[0]\n",
    "    tbody=holding.xpath('//tbody')[0]\n",
    "    holding={\n",
    "        'fullName':tbody.xpath('//div[@data-type=\"full\"]'),\n",
    "        'abbreviation':tbody.xpath('//div[@data-type=\"abbreviation\"]'),\n",
    "        'percentage':tbody.xpath('//td[@data-type=\"percent\"]')\n",
    "    }\n",
    "    df = pd.DataFrame(data=holding)\n",
    "    df=df.apply(lambda s:s.apply(extractText))\n",
    "    return df"
   ]
  },
  {
   "cell_type": "code",
   "execution_count": 222,
   "metadata": {},
   "outputs": [],
   "source": [
    "funds=[]"
   ]
  },
  {
   "cell_type": "code",
   "execution_count": 236,
   "metadata": {},
   "outputs": [],
   "source": [
    "fundNames=['Janus Henderson Global Technology Fund',\n",
    "            'iShares Healthcare Innovation UCITS ETF ']"
   ]
  },
  {
   "cell_type": "code",
   "execution_count": null,
   "metadata": {},
   "outputs": [],
   "source": [
    "fundUrl"
   ]
  },
  {
   "cell_type": "markdown",
   "metadata": {},
   "source": [
    "## Janus Henderson Global Technology Fund"
   ]
  },
  {
   "cell_type": "code",
   "execution_count": 230,
   "metadata": {
    "scrolled": false
   },
   "outputs": [],
   "source": [
    "funds.append(extractHoldingsFromStock('https://www.bloomberg.com/quote/JAGTX:US'))"
   ]
  },
  {
   "cell_type": "markdown",
   "metadata": {},
   "source": [
    "## iShares Healthcare Innovation UCITS ETF "
   ]
  },
  {
   "cell_type": "code",
   "execution_count": 231,
   "metadata": {
    "scrolled": true
   },
   "outputs": [],
   "source": [
    "funds.append(extractHoldingsFromStock('https://www.bloomberg.com/quote/HEAL:SW'))"
   ]
  },
  {
   "cell_type": "code",
   "execution_count": 234,
   "metadata": {},
   "outputs": [
    {
     "data": {
      "text/plain": [
       "[0.67, 0.33]"
      ]
     },
     "execution_count": 234,
     "metadata": {},
     "output_type": "execute_result"
    }
   ],
   "source": [
    "allocation=np.array([4,2])\n",
    "\n",
    "weights=list(map(lambda v:round(v/sum,2),allocation))\n",
    "weights"
   ]
  },
  {
   "cell_type": "code",
   "execution_count": 232,
   "metadata": {},
   "outputs": [],
   "source": [
    "data={\n",
    "    'fundName':fundNames,\n",
    "    'fund':funds,\n",
    "    'weight':weights,\n",
    "    'allocation':allocation\n",
    "}\n",
    "df=pd.DataFrame(data=data)\n",
    "sum=allocation.sum()"
   ]
  },
  {
   "cell_type": "code",
   "execution_count": 233,
   "metadata": {},
   "outputs": [
    {
     "data": {
      "text/html": [
       "<div>\n",
       "<style scoped>\n",
       "    .dataframe tbody tr th:only-of-type {\n",
       "        vertical-align: middle;\n",
       "    }\n",
       "\n",
       "    .dataframe tbody tr th {\n",
       "        vertical-align: top;\n",
       "    }\n",
       "\n",
       "    .dataframe thead th {\n",
       "        text-align: right;\n",
       "    }\n",
       "</style>\n",
       "<table border=\"1\" class=\"dataframe\">\n",
       "  <thead>\n",
       "    <tr style=\"text-align: right;\">\n",
       "      <th></th>\n",
       "      <th>fullName</th>\n",
       "      <th>abbreviation</th>\n",
       "      <th>percentage</th>\n",
       "      <th>overallPercentage</th>\n",
       "    </tr>\n",
       "  </thead>\n",
       "  <tbody>\n",
       "    <tr>\n",
       "      <th>0</th>\n",
       "      <td>Microsoft Corp</td>\n",
       "      <td>MSFT:US</td>\n",
       "      <td>5.54</td>\n",
       "      <td>3.7118</td>\n",
       "    </tr>\n",
       "    <tr>\n",
       "      <th>1</th>\n",
       "      <td>Alphabet Inc</td>\n",
       "      <td>GOOG:US</td>\n",
       "      <td>5.42</td>\n",
       "      <td>3.6314</td>\n",
       "    </tr>\n",
       "    <tr>\n",
       "      <th>2</th>\n",
       "      <td>Tencent Holdings Ltd</td>\n",
       "      <td>700:HK</td>\n",
       "      <td>4.19</td>\n",
       "      <td>2.8073</td>\n",
       "    </tr>\n",
       "    <tr>\n",
       "      <th>3</th>\n",
       "      <td>salesforce.com Inc</td>\n",
       "      <td>CRM:US</td>\n",
       "      <td>3.82</td>\n",
       "      <td>2.5594</td>\n",
       "    </tr>\n",
       "    <tr>\n",
       "      <th>4</th>\n",
       "      <td>Alibaba Group Holding Ltd</td>\n",
       "      <td>BABA:US</td>\n",
       "      <td>3.24</td>\n",
       "      <td>2.1708</td>\n",
       "    </tr>\n",
       "    <tr>\n",
       "      <th>5</th>\n",
       "      <td>Adobe Systems Inc</td>\n",
       "      <td>ADBE:US</td>\n",
       "      <td>2.99</td>\n",
       "      <td>2.0033</td>\n",
       "    </tr>\n",
       "    <tr>\n",
       "      <th>6</th>\n",
       "      <td>Amazon.com Inc</td>\n",
       "      <td>AMZN:US</td>\n",
       "      <td>2.95</td>\n",
       "      <td>1.9765</td>\n",
       "    </tr>\n",
       "    <tr>\n",
       "      <th>7</th>\n",
       "      <td>Microchip Technology Inc</td>\n",
       "      <td>MCHP:US</td>\n",
       "      <td>2.93</td>\n",
       "      <td>1.9631</td>\n",
       "    </tr>\n",
       "    <tr>\n",
       "      <th>8</th>\n",
       "      <td>Taiwan Semiconductor Manufactu</td>\n",
       "      <td>2330:TT</td>\n",
       "      <td>2.69</td>\n",
       "      <td>1.8023</td>\n",
       "    </tr>\n",
       "    <tr>\n",
       "      <th>9</th>\n",
       "      <td>Amphenol Corp</td>\n",
       "      <td>APH:US</td>\n",
       "      <td>2.62</td>\n",
       "      <td>1.7554</td>\n",
       "    </tr>\n",
       "    <tr>\n",
       "      <th>0</th>\n",
       "      <td>EURO</td>\n",
       "      <td>EUR:CUR</td>\n",
       "      <td>2.96</td>\n",
       "      <td>0.9768</td>\n",
       "    </tr>\n",
       "    <tr>\n",
       "      <th>1</th>\n",
       "      <td>Celltrion Inc</td>\n",
       "      <td>068270:KS</td>\n",
       "      <td>2.84</td>\n",
       "      <td>0.9372</td>\n",
       "    </tr>\n",
       "    <tr>\n",
       "      <th>2</th>\n",
       "      <td>ABIOMED Inc</td>\n",
       "      <td>ABMD:US</td>\n",
       "      <td>2.79</td>\n",
       "      <td>0.9207</td>\n",
       "    </tr>\n",
       "    <tr>\n",
       "      <th>3</th>\n",
       "      <td>ViroMed Co Ltd</td>\n",
       "      <td>084990:KS</td>\n",
       "      <td>2.58</td>\n",
       "      <td>0.8514</td>\n",
       "    </tr>\n",
       "    <tr>\n",
       "      <th>4</th>\n",
       "      <td>Sirtex Medical Ltd</td>\n",
       "      <td>SRX:AU</td>\n",
       "      <td>2.51</td>\n",
       "      <td>0.8283</td>\n",
       "    </tr>\n",
       "    <tr>\n",
       "      <th>5</th>\n",
       "      <td>CSPC Pharmaceutical Group Ltd</td>\n",
       "      <td>1093:HK</td>\n",
       "      <td>1.98</td>\n",
       "      <td>0.6534</td>\n",
       "    </tr>\n",
       "    <tr>\n",
       "      <th>6</th>\n",
       "      <td>Samsung Biologics Co Ltd</td>\n",
       "      <td>207940:KS</td>\n",
       "      <td>1.86</td>\n",
       "      <td>0.6138</td>\n",
       "    </tr>\n",
       "    <tr>\n",
       "      <th>7</th>\n",
       "      <td>Takara Bio Inc</td>\n",
       "      <td>4974:JP</td>\n",
       "      <td>1.77</td>\n",
       "      <td>0.5841</td>\n",
       "    </tr>\n",
       "    <tr>\n",
       "      <th>8</th>\n",
       "      <td>United Laboratories Internatio</td>\n",
       "      <td>3933:HK</td>\n",
       "      <td>1.75</td>\n",
       "      <td>0.5775</td>\n",
       "    </tr>\n",
       "    <tr>\n",
       "      <th>9</th>\n",
       "      <td>Myriad Genetics Inc</td>\n",
       "      <td>MYGN:US</td>\n",
       "      <td>1.68</td>\n",
       "      <td>0.5544</td>\n",
       "    </tr>\n",
       "  </tbody>\n",
       "</table>\n",
       "</div>"
      ],
      "text/plain": [
       "                         fullName abbreviation percentage  overallPercentage\n",
       "0                  Microsoft Corp      MSFT:US       5.54             3.7118\n",
       "1                    Alphabet Inc      GOOG:US       5.42             3.6314\n",
       "2            Tencent Holdings Ltd       700:HK       4.19             2.8073\n",
       "3              salesforce.com Inc       CRM:US       3.82             2.5594\n",
       "4       Alibaba Group Holding Ltd      BABA:US       3.24             2.1708\n",
       "5               Adobe Systems Inc      ADBE:US       2.99             2.0033\n",
       "6                  Amazon.com Inc      AMZN:US       2.95             1.9765\n",
       "7        Microchip Technology Inc      MCHP:US       2.93             1.9631\n",
       "8  Taiwan Semiconductor Manufactu      2330:TT       2.69             1.8023\n",
       "9                   Amphenol Corp       APH:US       2.62             1.7554\n",
       "0                            EURO      EUR:CUR       2.96             0.9768\n",
       "1                   Celltrion Inc    068270:KS       2.84             0.9372\n",
       "2                     ABIOMED Inc      ABMD:US       2.79             0.9207\n",
       "3                  ViroMed Co Ltd    084990:KS       2.58             0.8514\n",
       "4              Sirtex Medical Ltd       SRX:AU       2.51             0.8283\n",
       "5   CSPC Pharmaceutical Group Ltd      1093:HK       1.98             0.6534\n",
       "6        Samsung Biologics Co Ltd    207940:KS       1.86             0.6138\n",
       "7                  Takara Bio Inc      4974:JP       1.77             0.5841\n",
       "8  United Laboratories Internatio      3933:HK       1.75             0.5775\n",
       "9             Myriad Genetics Inc      MYGN:US       1.68             0.5544"
      ]
     },
     "execution_count": 233,
     "metadata": {},
     "output_type": "execute_result"
    }
   ],
   "source": [
    "def factorInWeights(row):\n",
    "    fund=row.fund\n",
    "    weight=row.weight\n",
    "    fund['overallPercentage']=fund.percentage.apply(lambda v:float(v)*weight)\n",
    "    return \n",
    "\n",
    "df.apply(factorInWeights,axis=1)\n",
    "allFunds=pd.concat(funds)\n",
    "allFunds.sort_values(['overallPercentage', 'percentage'], ascending=[0,0])"
   ]
  }
 ],
 "metadata": {
  "kernelspec": {
   "display_name": "Python 3",
   "language": "python",
   "name": "python3"
  },
  "language_info": {
   "codemirror_mode": {
    "name": "ipython",
    "version": 3
   },
   "file_extension": ".py",
   "mimetype": "text/x-python",
   "name": "python",
   "nbconvert_exporter": "python",
   "pygments_lexer": "ipython3",
   "version": "3.6.5"
  }
 },
 "nbformat": 4,
 "nbformat_minor": 2
}
