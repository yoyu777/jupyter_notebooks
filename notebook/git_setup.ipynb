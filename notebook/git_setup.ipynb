{
 "cells": [
  {
   "cell_type": "code",
   "execution_count": 93,
   "metadata": {},
   "outputs": [
    {
     "name": "stdout",
     "output_type": "stream",
     "text": [
      "Github username and password set\n"
     ]
    }
   ],
   "source": [
    "# Set Github username and password\n",
    "\n",
    "import re\n",
    "from IPython.display import clear_output\n",
    "\n",
    "\n",
    "username=input('Github Username: ')\n",
    "password=input('Github Password: ')\n",
    "\n",
    "def getLinuxHome():\n",
    "    pwd=!pwd\n",
    "    home=re.search('/home/\\w+',pwd[0]).group(0)\n",
    "    return home\n",
    "\n",
    "def getGithubRepoURL():\n",
    "    origin=!git remote -v show -n origin\n",
    "    github=re.search('github.com/.*',origin[1]).group(0)\n",
    "    return github\n",
    "\n",
    "with open(getLinuxHome()+'/.git-credentials','w') as file:\n",
    "    file.write('https://%s:%s@%s' % (username,password,getGithubRepoURL()))\n",
    "\n",
    "!git config credential.helper store\n",
    "\n",
    "clear_output()\n",
    "\n",
    "print(\"Github username and password set\")"
   ]
  },
  {
   "cell_type": "code",
   "execution_count": 94,
   "metadata": {
    "scrolled": true
   },
   "outputs": [
    {
     "name": "stdout",
     "output_type": "stream",
     "text": [
      "On branch binder\n",
      "Your branch is up to date with 'origin/binder'.\n",
      "\n",
      "Changes not staged for commit:\n",
      "  (use \"git add <file>...\" to update what will be committed)\n",
      "  (use \"git checkout -- <file>...\" to discard changes in working directory)\n",
      "\n",
      "\t\u001b[31mmodified:   git_setup.ipynb\u001b[m\n",
      "\n",
      "Untracked files:\n",
      "  (use \"git add <file>...\" to include in what will be committed)\n",
      "\n",
      "\t\u001b[31m../.bash_logout\u001b[m\n",
      "\t\u001b[31m../.bashrc\u001b[m\n",
      "\t\u001b[31m../.cache/\u001b[m\n",
      "\t\u001b[31m../.conda/\u001b[m\n",
      "\t\u001b[31m../.git-credentials\u001b[m\n",
      "\t\u001b[31m../.ipynb_checkpoints/\u001b[m\n",
      "\t\u001b[31m../.ipython/\u001b[m\n",
      "\t\u001b[31m../.local/\u001b[m\n",
      "\t\u001b[31m../.profile\u001b[m\n",
      "\t\u001b[31m../.ssh/\u001b[m\n",
      "\t\u001b[31m../.wget-hsts\u001b[m\n",
      "\t\u001b[31m../Untitled.ipynb\u001b[m\n",
      "\t\u001b[31m.ipynb_checkpoints/\u001b[m\n",
      "\n",
      "no changes added to commit (use \"git add\" and/or \"git commit -a\")\n",
      "[binder 8e1d8ff] Edited from Binder Sat May 26 15:49:18 UTC 2018\n",
      " 1 file changed, 29 insertions(+), 35 deletions(-)\n",
      "Counting objects: 4, done.\n",
      "Delta compression using up to 32 threads.\n",
      "Compressing objects: 100% (3/3), done.\n",
      "Writing objects: 100% (4/4), 987 bytes | 987.00 KiB/s, done.\n",
      "Total 4 (delta 1), reused 0 (delta 0)\n",
      "remote: Resolving deltas: 100% (1/1), completed with 1 local object.\u001b[K\n",
      "To https://github.com/yoyu777/jupyter_notebooks.git\n",
      "   00f1762..8e1d8ff  binder -> binder\n"
     ]
    }
   ],
   "source": [
    "!git status\n",
    "!git add *.ipynb\n",
    "!git commit -am \"Edited from Binder $(date)\"\n",
    "!git push"
   ]
  }
 ],
 "metadata": {
  "kernelspec": {
   "display_name": "Python 3",
   "language": "python",
   "name": "python3"
  },
  "language_info": {
   "codemirror_mode": {
    "name": "ipython",
    "version": 3
   },
   "file_extension": ".py",
   "mimetype": "text/x-python",
   "name": "python",
   "nbconvert_exporter": "python",
   "pygments_lexer": "ipython3",
   "version": "3.6.5"
  }
 },
 "nbformat": 4,
 "nbformat_minor": 2
}
