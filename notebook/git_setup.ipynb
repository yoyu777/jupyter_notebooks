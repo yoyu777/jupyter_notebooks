{
 "cells": [
  {
   "cell_type": "code",
   "execution_count": 60,
   "metadata": {},
   "outputs": [
    {
     "name": "stdout",
     "output_type": "stream",
     "text": [
      "Github Username: test\n",
      "Github Password: 123\n",
      "Github username and password set\n"
     ]
    }
   ],
   "source": [
    "# Set Github username and password\n",
    "\n",
    "import os\n",
    "import re\n",
    "\n",
    "username=input('Github Username: ')\n",
    "password=input('Github Password: ')\n",
    "\n",
    "cwd = os.getcwd()\n",
    "home=re.search('/home/\\w+',cwd).group(0)\n",
    "\n",
    "with open(home+'/.git-credentials','w') as file:\n",
    "    file.write('https://%s:%s@github.com/yoyu777/ipynb.git' % (username,password))\n",
    "\n",
    "!git config credential.helper store\n",
    "\n",
    "print(\"Github username and password set\")\n",
    "    \n"
   ]
  },
  {
   "cell_type": "code",
   "execution_count": 58,
   "metadata": {},
   "outputs": [
    {
     "name": "stdout",
     "output_type": "stream",
     "text": [
      "On branch binder\n",
      "Untracked files:\n",
      "  (use \"git add <file>...\" to include in what will be committed)\n",
      "\n",
      "\t\u001b[31m../.bash_logout\u001b[m\n",
      "\t\u001b[31m../.bashrc\u001b[m\n",
      "\t\u001b[31m../.cache/\u001b[m\n",
      "\t\u001b[31m../.conda/\u001b[m\n",
      "\t\u001b[31m../.git-credentials\u001b[m\n",
      "\t\u001b[31m../.ipynb_checkpoints/\u001b[m\n",
      "\t\u001b[31m../.ipython/\u001b[m\n",
      "\t\u001b[31m../.local/\u001b[m\n",
      "\t\u001b[31m../.profile\u001b[m\n",
      "\t\u001b[31m../.ssh/\u001b[m\n",
      "\t\u001b[31m../.wget-hsts\u001b[m\n",
      "\t\u001b[31m../Untitled.ipynb\u001b[m\n",
      "\t\u001b[31m.ipynb_checkpoints/\u001b[m\n",
      "\n",
      "nothing added to commit but untracked files present (use \"git add\" to track)\n",
      "On branch binder\n",
      "Untracked files:\n",
      "\t\u001b[31m../.bash_logout\u001b[m\n",
      "\t\u001b[31m../.bashrc\u001b[m\n",
      "\t\u001b[31m../.cache/\u001b[m\n",
      "\t\u001b[31m../.conda/\u001b[m\n",
      "\t\u001b[31m../.git-credentials\u001b[m\n",
      "\t\u001b[31m../.ipynb_checkpoints/\u001b[m\n",
      "\t\u001b[31m../.ipython/\u001b[m\n",
      "\t\u001b[31m../.local/\u001b[m\n",
      "\t\u001b[31m../.profile\u001b[m\n",
      "\t\u001b[31m../.ssh/\u001b[m\n",
      "\t\u001b[31m../.wget-hsts\u001b[m\n",
      "\t\u001b[31m../Untitled.ipynb\u001b[m\n",
      "\t\u001b[31m.ipynb_checkpoints/\u001b[m\n",
      "\n",
      "nothing added to commit but untracked files present\n",
      "fatal: The current branch binder has no upstream branch.\n",
      "To push the current branch and set the remote as upstream, use\n",
      "\n",
      "    git push --set-upstream origin binder\n",
      "\n"
     ]
    }
   ],
   "source": [
    "!git status\n",
    "!git add *.ipynb\n",
    "!git commit -am \"Edited from Binder $(date)\"\n",
    "!git push"
   ]
  }
 ],
 "metadata": {
  "kernelspec": {
   "display_name": "Python 3",
   "language": "python",
   "name": "python3"
  },
  "language_info": {
   "codemirror_mode": {
    "name": "ipython",
    "version": 3
   },
   "file_extension": ".py",
   "mimetype": "text/x-python",
   "name": "python",
   "nbconvert_exporter": "python",
   "pygments_lexer": "ipython3",
   "version": "3.6.5"
  }
 },
 "nbformat": 4,
 "nbformat_minor": 2
}
